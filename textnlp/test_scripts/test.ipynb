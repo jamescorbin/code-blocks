{
 "cells": [
  {
   "cell_type": "code",
   "execution_count": 1,
   "metadata": {},
   "outputs": [
    {
     "name": "stdout",
     "output_type": "stream",
     "text": [
      "/home/jamescorbin/GIT/code_blocks/textnlp\n"
     ]
    }
   ],
   "source": [
    "import os\n",
    "import sys\n",
    "\n",
    "proj_dir = os.path.dirname(os.path.abspath(os.getcwd()))\n",
    "print(proj_dir)\n",
    "\n",
    "if proj_dir not in sys.path:\n",
    "    sys.path.insert(1, proj_dir)"
   ]
  },
  {
   "cell_type": "code",
   "execution_count": 2,
   "metadata": {},
   "outputs": [
    {
     "name": "stderr",
     "output_type": "stream",
     "text": [
      "2020-12-22 13:46:58,222 - preprocessing - INFO - Project path: /home/jamescorbin/GIT/code_blocks\n",
      "2020-12-22 13:46:58,222 - preprocessing - INFO - Project path: /home/jamescorbin/GIT/code_blocks\n",
      "2020-12-22 13:46:58,222 - preprocessing - INFO - Project path: /home/jamescorbin/GIT/code_blocks\n"
     ]
    }
   ],
   "source": [
    "import gutenberg.load_text as load_text\n",
    "import pretokenize\n",
    "import preprocessing"
   ]
  },
  {
   "cell_type": "code",
   "execution_count": 3,
   "metadata": {},
   "outputs": [],
   "source": [
    "from textnlp import default_ascii_dir, default_truncated_dir, default_preprocessed_dir, default_ancillary_dir"
   ]
  },
  {
   "cell_type": "code",
   "execution_count": 4,
   "metadata": {},
   "outputs": [],
   "source": [
    "fbs = os.listdir(default_ascii_dir)"
   ]
  },
  {
   "cell_type": "code",
   "execution_count": 5,
   "metadata": {},
   "outputs": [],
   "source": [
    "fns = [os.path.join(default_ascii_dir, x) for x in fbs]"
   ]
  },
  {
   "cell_type": "code",
   "execution_count": 6,
   "metadata": {},
   "outputs": [
    {
     "name": "stdout",
     "output_type": "stream",
     "text": [
      "/home/jamescorbin/Desktop/texts/ascii/63751.txt\n"
     ]
    }
   ],
   "source": [
    "fn = fns[2]\n",
    "print(fn)"
   ]
  },
  {
   "cell_type": "code",
   "execution_count": 7,
   "metadata": {},
   "outputs": [
    {
     "name": "stderr",
     "output_type": "stream",
     "text": [
      "2020-12-22 13:46:58,405 - preprocessing - INFO - Input directory file:///home/jamescorbin/Desktop/texts/ascii\n",
      "2020-12-22 13:46:58,405 - preprocessing - INFO - Input directory file:///home/jamescorbin/Desktop/texts/ascii\n",
      "2020-12-22 13:46:58,405 - preprocessing - INFO - Input directory file:///home/jamescorbin/Desktop/texts/ascii\n",
      "2020-12-22 13:46:58,407 - preprocessing - INFO - Output directory file:///home/jamescorbin/Desktop/texts/preprocessed\n",
      "2020-12-22 13:46:58,407 - preprocessing - INFO - Output directory file:///home/jamescorbin/Desktop/texts/preprocessed\n",
      "2020-12-22 13:46:58,407 - preprocessing - INFO - Output directory file:///home/jamescorbin/Desktop/texts/preprocessed\n",
      "2020-12-22 13:46:58,408 - preprocessing - INFO - Ancillary directory file:///home/jamescorbin/Desktop/texts/ancillary\n",
      "2020-12-22 13:46:58,408 - preprocessing - INFO - Ancillary directory file:///home/jamescorbin/Desktop/texts/ancillary\n",
      "2020-12-22 13:46:58,408 - preprocessing - INFO - Ancillary directory file:///home/jamescorbin/Desktop/texts/ancillary\n"
     ]
    },
    {
     "data": {
      "text/plain": [
       "0"
      ]
     },
     "execution_count": 7,
     "metadata": {},
     "output_type": "execute_result"
    }
   ],
   "source": [
    "preprocessing.main()"
   ]
  },
  {
   "cell_type": "code",
   "execution_count": 8,
   "metadata": {},
   "outputs": [],
   "source": [
    "import visualization"
   ]
  },
  {
   "cell_type": "code",
   "execution_count": 9,
   "metadata": {},
   "outputs": [],
   "source": [
    "fns0 = os.listdir(default_preprocessed_dir)\n",
    "fns1 = os.listdir(default_ancillary_dir)"
   ]
  },
  {
   "cell_type": "code",
   "execution_count": 10,
   "metadata": {},
   "outputs": [],
   "source": [
    "import json"
   ]
  },
  {
   "cell_type": "code",
   "execution_count": 11,
   "metadata": {},
   "outputs": [],
   "source": [
    "with open(os.path.join(default_ancillary_dir, fns1[0]), 'r') as f:\n",
    "    counts = json.load(f)"
   ]
  },
  {
   "cell_type": "code",
   "execution_count": 12,
   "metadata": {},
   "outputs": [],
   "source": [
    "fig = visualization.plot_wordcloud(counts, fns1[0])"
   ]
  },
  {
   "cell_type": "code",
   "execution_count": 17,
   "metadata": {
    "collapsed": true,
    "jupyter": {
     "outputs_hidden": true
    }
   },
   "outputs": [
    {
     "data": {
      "text/plain": [
       "array([[[255, 255, 255],\n",
       "        [255, 255, 255],\n",
       "        [255, 255, 255],\n",
       "        ...,\n",
       "        [255, 255, 255],\n",
       "        [255, 255, 255],\n",
       "        [255, 255, 255]],\n",
       "\n",
       "       [[255, 255, 255],\n",
       "        [255, 255, 255],\n",
       "        [255, 255, 255],\n",
       "        ...,\n",
       "        [255, 255, 255],\n",
       "        [255, 255, 255],\n",
       "        [255, 255, 255]],\n",
       "\n",
       "       [[255, 255, 255],\n",
       "        [255, 255, 255],\n",
       "        [255, 255, 255],\n",
       "        ...,\n",
       "        [255, 255, 255],\n",
       "        [255, 255, 255],\n",
       "        [255, 255, 255]],\n",
       "\n",
       "       ...,\n",
       "\n",
       "       [[255, 255, 255],\n",
       "        [255, 255, 255],\n",
       "        [255, 255, 255],\n",
       "        ...,\n",
       "        [255, 255, 255],\n",
       "        [255, 255, 255],\n",
       "        [255, 255, 255]],\n",
       "\n",
       "       [[255, 255, 255],\n",
       "        [255, 255, 255],\n",
       "        [255, 255, 255],\n",
       "        ...,\n",
       "        [255, 255, 255],\n",
       "        [255, 255, 255],\n",
       "        [255, 255, 255]],\n",
       "\n",
       "       [[255, 255, 255],\n",
       "        [255, 255, 255],\n",
       "        [255, 255, 255],\n",
       "        ...,\n",
       "        [255, 255, 255],\n",
       "        [255, 255, 255],\n",
       "        [255, 255, 255]]], dtype=uint8)"
      ]
     },
     "execution_count": 17,
     "metadata": {},
     "output_type": "execute_result"
    }
   ],
   "source": [
    "fig.to_array()"
   ]
  },
  {
   "cell_type": "code",
   "execution_count": 19,
   "metadata": {},
   "outputs": [
    {
     "data": {
      "text/plain": [
       "'<svg xmlns=\"http://www.w3.org/2000/svg\" width=\"1000\" height=\"1000\">\\n<style>text{font-family:\\'Droid Sans Mono\\';font-weight:normal;font-style:normal;}</style>\\n<rect width=\"100%\" height=\"100%\" style=\"fill:white\"></rect>\\n<text transform=\"translate(121,256)\" font-size=\"202\" style=\"fill:rgb(33, 145, 140)\">belasco</text>\\n<text transform=\"translate(103,495)\" font-size=\"151\" style=\"fill:rgb(31, 152, 139)\">theatre</text>\\n<text transform=\"translate(171,745)\" font-size=\"146\" style=\"fill:rgb(52, 97, 141)\">play</text>\\n<text transform=\"translate(341,594)\" font-size=\"128\" style=\"fill:rgb(46, 109, 142)\">first</text>\\n<text transform=\"translate(679,945)\" font-size=\"126\" style=\"fill:rgb(66, 64, 134)\">new</text>\\n<text transform=\"translate(743,823)\" font-size=\"114\" style=\"fill:rgb(63, 188, 115)\">one</text>\\n<text transform=\"translate(279,935)\" font-size=\"107\" style=\"fill:rgb(72, 28, 110)\">stage</text>\\n<text transform=\"translate(574,707)\" font-size=\"103\" style=\"fill:rgb(144, 215, 67)\">york</text>\\n<text transform=\"translate(755,589)\" font-size=\"101\" style=\"fill:rgb(194, 223, 35)\">b</text>\\n<text transform=\"translate(836,97)\" font-size=\"99\" style=\"fill:rgb(40, 124, 142)\">mr</text>\\n<text transform=\"translate(576,105)\" font-size=\"97\" style=\"fill:rgb(71, 42, 122)\">mrs</text>\\n<text transform=\"translate(750,359)\" font-size=\"96\" style=\"fill:rgb(31, 161, 136)\">time</text>\\n<text transform=\"translate(96,355)\" font-size=\"95\" style=\"fill:rgb(66, 65, 134)\">made</text>\\n<text transform=\"translate(903,710) rotate(-90)\" font-size=\"93\" style=\"fill:rgb(32, 146, 140)\">man</text>\\n<text transform=\"translate(12,589)\" font-size=\"90\" style=\"fill:rgb(72, 27, 109)\">david</text>\\n<text transform=\"translate(70,897) rotate(-90)\" font-size=\"85\" style=\"fill:rgb(33, 165, 133)\">would</text>\\n<text transform=\"translate(169,119)\" font-size=\"83\" style=\"fill:rgb(56, 88, 140)\">miss</text>\\n<text transform=\"translate(181,832)\" font-size=\"68\" style=\"fill:rgb(52, 182, 121)\">performance</text>\\n<text transform=\"translate(423,323)\" font-size=\"66\" style=\"fill:rgb(49, 104, 142)\">produced</text>\\n<text transform=\"translate(51,404) rotate(-90)\" font-size=\"66\" style=\"fill:rgb(34, 140, 141)\">theatrical</text>\\n<text transform=\"translate(253,56)\" font-size=\"66\" style=\"fill:rgb(71, 46, 124)\">warfield</text>\\n<text transform=\"translate(80,932)\" font-size=\"65\" style=\"fill:rgb(231, 228, 25)\">many</text>\\n<text transform=\"translate(807,456)\" font-size=\"64\" style=\"fill:rgb(72, 33, 115)\">could</text>\\n<text transform=\"translate(502,377)\" font-size=\"64\" style=\"fill:rgb(62, 76, 138)\">little</text>\\n<text transform=\"translate(773,493)\" font-size=\"63\" style=\"fill:rgb(52, 182, 121)\">years</text>\\n<text transform=\"translate(96,738)\" font-size=\"63\" style=\"fill:rgb(69, 55, 129)\">et</text>\\n<text transform=\"translate(313,636)\" font-size=\"49\" style=\"fill:rgb(68, 59, 132)\">syndicate</text>\\n<text transform=\"translate(293,976)\" font-size=\"49\" style=\"fill:rgb(71, 17, 100)\">long</text>\\n<text transform=\"translate(473,98)\" font-size=\"49\" style=\"fill:rgb(61, 78, 138)\">old</text>\\n<text transform=\"translate(27,967)\" font-size=\"49\" style=\"fill:rgb(236, 229, 27)\">great</text>\\n<text transform=\"translate(59,61)\" font-size=\"49\" style=\"fill:rgb(33, 165, 133)\">may</text>\\n<text transform=\"translate(910,914)\" font-size=\"49\" style=\"fill:rgb(72, 24, 106)\">seq</text>\\n<text transform=\"translate(328,390)\" font-size=\"48\" style=\"fill:rgb(65, 66, 135)\">girl</text>\\n<text transform=\"translate(111,628)\" font-size=\"48\" style=\"fill:rgb(31, 158, 137)\">much</text>\\n<text transform=\"translate(571,37)\" font-size=\"47\" style=\"fill:rgb(72, 26, 108)\">william</text>\\n<text transform=\"translate(778,397)\" font-size=\"47\" style=\"fill:rgb(129, 211, 77)\">charles</text>\\n<text transform=\"translate(773,749)\" font-size=\"46\" style=\"fill:rgb(122, 209, 81)\">life</text>\\n<text transform=\"translate(344,338)\" font-size=\"46\" style=\"fill:rgb(127, 211, 78)\">th</text>\\n<text transform=\"translate(564,764)\" font-size=\"46\" style=\"fill:rgb(34, 141, 141)\">part</text>\\n<text transform=\"translate(209,986)\" font-size=\"45\" style=\"fill:rgb(251, 231, 35)\">19</text>\\n<text transform=\"translate(526,985)\" font-size=\"45\" style=\"fill:rgb(39, 173, 129)\">actor</text>\\n<text transform=\"translate(100,240) rotate(-90)\" font-size=\"44\" style=\"fill:rgb(119, 209, 83)\">last</text>\\n<text transform=\"translate(681,979)\" font-size=\"44\" style=\"fill:rgb(46, 109, 142)\">public</text>\\n<text transform=\"translate(26,491)\" font-size=\"44\" style=\"fill:rgb(46, 110, 142)\">john</text>\\n<text transform=\"translate(918,554)\" font-size=\"44\" style=\"fill:rgb(239, 229, 28)\">two</text>\\n<text transform=\"translate(640,860)\" font-size=\"44\" style=\"fill:rgb(71, 14, 97)\">work</text>\\n<text transform=\"translate(76,795)\" font-size=\"44\" style=\"fill:rgb(246, 230, 32)\">upon</text>\\n<text transform=\"translate(932,698)\" font-size=\"43\" style=\"fill:rgb(30, 156, 137)\">du</text>\\n<text transform=\"translate(760,857)\" font-size=\"43\" style=\"fill:rgb(59, 187, 117)\">barry</text>\\n<text transform=\"translate(72,871)\" font-size=\"43\" style=\"fill:rgb(244, 230, 30)\">well</text>\\n<text transform=\"translate(87,531)\" font-size=\"43\" style=\"fill:rgb(47, 108, 142)\">make</text>\\n<text transform=\"translate(758,136)\" font-size=\"43\" style=\"fill:rgb(64, 189, 114)\">dramatic</text>\\n<text transform=\"translate(89,407) rotate(-90)\" font-size=\"43\" style=\"fill:rgb(105, 205, 91)\">acted</text>\\n<text transform=\"translate(905,617)\" font-size=\"43\" style=\"fill:rgb(47, 108, 142)\">san</text>\\n<text transform=\"translate(150,24)\" font-size=\"43\" style=\"fill:rgb(139, 214, 70)\">way</text>\\n<text transform=\"translate(530,865)\" font-size=\"43\" style=\"fill:rgb(72, 20, 103)\">cast</text>\\n<text transform=\"translate(972,861) rotate(-90)\" font-size=\"43\" style=\"fill:rgb(59, 187, 117)\">never</text>\\n<text transform=\"translate(769,27)\" font-size=\"34\" style=\"fill:rgb(54, 92, 141)\">production</text>\\n<text transform=\"translate(603,404)\" font-size=\"34\" style=\"fill:rgb(46, 179, 124)\">business</text>\\n<text transform=\"translate(606,636)\" font-size=\"34\" style=\"fill:rgb(155, 217, 60)\">carter</text>\\n<text transform=\"translate(810,527)\" font-size=\"34\" style=\"fill:rgb(63, 188, 115)\">good</text>\\n<text transform=\"translate(119,287)\" font-size=\"34\" style=\"fill:rgb(194, 223, 35)\">plays</text>\\n<text transform=\"translate(649,797)\" font-size=\"34\" style=\"fill:rgb(184, 222, 41)\">j</text>\\n<text transform=\"translate(491,130)\" font-size=\"34\" style=\"fill:rgb(48, 106, 142)\">said</text>\\n<text transform=\"translate(440,378)\" font-size=\"34\" style=\"fill:rgb(35, 137, 142)\">de</text>\\n<text transform=\"translate(376,852)\" font-size=\"34\" style=\"fill:rgb(92, 200, 99)\">company</text>\\n<text transform=\"translate(234,863)\" font-size=\"34\" style=\"fill:rgb(103, 204, 92)\">adrea</text>\\n<text transform=\"translate(80,649)\" font-size=\"30\" style=\"fill:rgb(42, 119, 142)\">management</text>\\n<text transform=\"translate(583,123)\" font-size=\"30\" style=\"fill:rgb(168, 219, 52)\">manager</text>\\n<text transform=\"translate(361,95)\" font-size=\"30\" style=\"fill:rgb(34, 168, 132)\">love</text>\\n<text transform=\"translate(903,987)\" font-size=\"30\" style=\"fill:rgb(31, 161, 136)\">bates</text>\\n<text transform=\"translate(232,372)\" font-size=\"30\" style=\"fill:rgb(74, 193, 109)\">every</text>\\n<text transform=\"translate(266,286)\" font-size=\"30\" style=\"fill:rgb(71, 44, 122)\">woman</text>\\n<text transform=\"translate(846,284)\" font-size=\"30\" style=\"fill:rgb(41, 175, 127)\">erlanger</text>\\n<text transform=\"translate(734,439)\" font-size=\"30\" style=\"fill:rgb(41, 122, 142)\">see</text>\\n<text transform=\"translate(742,613)\" font-size=\"30\" style=\"fill:rgb(45, 112, 142)\">acting</text>\\n<text transform=\"translate(594,930)\" font-size=\"30\" style=\"fill:rgb(38, 173, 129)\">house</text>\\n<text transform=\"translate(722,788)\" font-size=\"30\" style=\"fill:rgb(46, 111, 142)\">c</text>\\n<text transform=\"translate(264,769)\" font-size=\"30\" style=\"fill:rgb(32, 147, 140)\">heart</text>\\n<text transform=\"translate(19,435)\" font-size=\"30\" style=\"fill:rgb(63, 71, 136)\">night</text>\\n<text transform=\"translate(276,592)\" font-size=\"30\" style=\"fill:rgb(71, 44, 122)\">story</text>\\n<text transform=\"translate(516,702)\" font-size=\"30\" style=\"fill:rgb(92, 200, 99)\">must</text>\\n<text transform=\"translate(457,221) rotate(-90)\" font-size=\"30\" style=\"fill:rgb(236, 229, 27)\">presented</text>\\n<text transform=\"translate(409,659)\" font-size=\"30\" style=\"fill:rgb(88, 199, 101)\">character</text>\\n<text transform=\"translate(414,984)\" font-size=\"30\" style=\"fill:rgb(70, 50, 126)\">played</text>\\n<text transform=\"translate(88,990)\" font-size=\"30\" style=\"fill:rgb(115, 208, 86)\">called</text>\\n<text transform=\"translate(691,809)\" font-size=\"30\" style=\"fill:rgb(61, 188, 116)\">act</text>\\n<text transform=\"translate(672,745)\" font-size=\"30\" style=\"fill:rgb(53, 183, 121)\">court</text>\\n<text transform=\"translate(990,165) rotate(-90)\" font-size=\"30\" style=\"fill:rgb(71, 46, 124)\">francisco</text>\\n<text transform=\"translate(362,272)\" font-size=\"30\" style=\"fill:rgb(72, 31, 112)\">success</text>\\n<text transform=\"translate(85,672)\" font-size=\"30\" style=\"fill:rgb(69, 53, 129)\">young</text>\\n<text transform=\"translate(129,256) rotate(-90)\" font-size=\"30\" style=\"fill:rgb(54, 93, 141)\">frohman</text>\\n<text transform=\"translate(732,236) rotate(-90)\" font-size=\"30\" style=\"fill:rgb(64, 189, 114)\">written</text>\\n<text transform=\"translate(174,888)\" font-size=\"30\" style=\"fill:rgb(76, 194, 108)\">author</text>\\n<text transform=\"translate(906,650)\" font-size=\"30\" style=\"fill:rgb(34, 140, 141)\">henry</text>\\n<text transform=\"translate(276,557)\" font-size=\"30\" style=\"fill:rgb(208, 225, 28)\">name</text>\\n<text transform=\"translate(220,762)\" font-size=\"30\" style=\"fill:rgb(72, 32, 113)\">w</text>\\n<text transform=\"translate(3,625)\" font-size=\"30\" style=\"fill:rgb(31, 150, 139)\">letter</text>\\n<text transform=\"translate(748,78)\" font-size=\"30\" style=\"fill:rgb(33, 144, 141)\">opera</text>\\n<text transform=\"translate(609,286) rotate(-90)\" font-size=\"30\" style=\"fill:rgb(72, 37, 118)\">original</text>\\n<text transform=\"translate(376,237) rotate(-90)\" font-size=\"30\" style=\"fill:rgb(41, 175, 127)\">season</text>\\n<text transform=\"translate(619,522) rotate(-90)\" font-size=\"30\" style=\"fill:rgb(71, 13, 96)\">ever</text>\\n<text transform=\"translate(91,379)\" font-size=\"30\" style=\"fill:rgb(142, 214, 69)\">father</text>\\n<text transform=\"translate(470,513)\" font-size=\"22\" style=\"fill:rgb(210, 226, 27)\">washington</text>\\n<text transform=\"translate(76,108)\" font-size=\"22\" style=\"fill:rgb(72, 36, 117)\">h</text>\\n<text transform=\"translate(491,764)\" font-size=\"22\" style=\"fill:rgb(37, 131, 142)\">case</text>\\n<text transform=\"translate(250,395)\" font-size=\"22\" style=\"fill:rgb(223, 227, 24)\">george</text>\\n<text transform=\"translate(852,255) rotate(-90)\" font-size=\"22\" style=\"fill:rgb(60, 80, 139)\">known</text>\\n<text transform=\"translate(904,507)\" font-size=\"22\" style=\"fill:rgb(72, 20, 103)\">purpose</text>\\n<text transform=\"translate(58,22)\" font-size=\"22\" style=\"fill:rgb(62, 73, 137)\">always</text>\\n<text transform=\"translate(901,957)\" font-size=\"22\" style=\"fill:rgb(51, 99, 141)\">however</text>\\n<text transform=\"translate(481,234) rotate(-90)\" font-size=\"22\" style=\"fill:rgb(124, 210, 80)\">plagiarism</text>\\n<text transform=\"translate(243,497) rotate(-90)\" font-size=\"22\" style=\"fill:rgb(31, 160, 136)\">scene</text>\\n<text transform=\"translate(226,138)\" font-size=\"22\" style=\"fill:rgb(72, 41, 121)\">another</text>\\n<text transform=\"translate(994,884) rotate(-90)\" font-size=\"22\" style=\"fill:rgb(70, 50, 126)\">without</text>\\n<text transform=\"translate(284,524)\" font-size=\"22\" style=\"fill:rgb(152, 216, 62)\">fact</text>\\n<text transform=\"translate(539,401)\" font-size=\"22\" style=\"fill:rgb(36, 135, 142)\">like</text>\\n<text transform=\"translate(76,756)\" font-size=\"22\" style=\"fill:rgb(34, 141, 141)\">nothing</text>\\n<text transform=\"translate(781,40)\" font-size=\"22\" style=\"fill:rgb(68, 58, 131)\">rose</text>\\n<text transform=\"translate(170,62)\" font-size=\"22\" style=\"fill:rgb(88, 199, 101)\">wife</text>\\n<text transform=\"translate(10,920)\" font-size=\"22\" style=\"fill:rgb(71, 14, 97)\">drama</text>\\n<text transform=\"translate(681,766)\" font-size=\"22\" style=\"fill:rgb(69, 56, 130)\">music</text>\\n<text transform=\"translate(612,275)\" font-size=\"22\" style=\"fill:rgb(53, 94, 141)\">september</text>\\n<text transform=\"translate(771,414)\" font-size=\"22\" style=\"fill:rgb(37, 171, 130)\">dramatist</text>\\n<text transform=\"translate(774,215)\" font-size=\"22\" style=\"fill:rgb(71, 46, 124)\">hope</text>\\n<text transform=\"translate(749,595) rotate(-90)\" font-size=\"22\" style=\"fill:rgb(53, 183, 121)\">illustration</text>\\n<text transform=\"translate(916,588)\" font-size=\"22\" style=\"fill:rgb(33, 142, 141)\">london</text>\\n<text transform=\"translate(84,825)\" font-size=\"22\" style=\"fill:rgb(33, 165, 133)\">present</text>\\n<text transform=\"translate(621,883)\" font-size=\"22\" style=\"fill:rgb(117, 208, 84)\">place</text>\\n<text transform=\"translate(891,723)\" font-size=\"22\" style=\"fill:rgb(34, 168, 132)\">american</text>\\n<text transform=\"translate(372,775)\" font-size=\"22\" style=\"fill:rgb(36, 134, 142)\">death</text>\\n<text transform=\"translate(859,301)\" font-size=\"22\" style=\"fill:rgb(202, 225, 31)\">shall</text>\\n<text transform=\"translate(197,513)\" font-size=\"22\" style=\"fill:rgb(72, 37, 118)\">west</text>\\n<text transform=\"translate(390,915) rotate(-90)\" font-size=\"22\" style=\"fill:rgb(72, 27, 109)\">18</text>\\n<text transform=\"translate(397,235) rotate(-90)\" font-size=\"22\" style=\"fill:rgb(42, 120, 142)\">direction</text>\\n<text transform=\"translate(744,272)\" font-size=\"22\" style=\"fill:rgb(68, 58, 131)\">eng</text>\\n<text transform=\"translate(519,446)\" font-size=\"22\" style=\"fill:rgb(38, 130, 142)\">home</text>\\n<text transform=\"translate(59,128)\" font-size=\"22\" style=\"fill:rgb(241, 229, 29)\">know</text>\\n<text transform=\"translate(271,994)\" font-size=\"22\" style=\"fill:rgb(38, 130, 142)\">several</text>\\n<text transform=\"translate(227,620)\" font-size=\"22\" style=\"fill:rgb(194, 223, 35)\">action</text>\\n<text transform=\"translate(375,406)\" font-size=\"22\" style=\"fill:rgb(80, 196, 106)\">actors</text>\\n<text transform=\"translate(781,190)\" font-size=\"22\" style=\"fill:rgb(132, 212, 75)\">done</text>\\n<text transform=\"translate(480,784)\" font-size=\"22\" style=\"fill:rgb(46, 179, 124)\">king</text>\\n<text transform=\"translate(89,889)\" font-size=\"22\" style=\"fill:rgb(178, 221, 45)\">think</text>\\n<text transform=\"translate(606,948)\" font-size=\"22\" style=\"fill:rgb(72, 31, 112)\">april</text>\\n<text transform=\"translate(799,95)\" font-size=\"22\" style=\"fill:rgb(40, 125, 142)\">art</text>\\n<text transform=\"translate(985,262) rotate(-90)\" font-size=\"22\" style=\"fill:rgb(241, 229, 29)\">darling</text>\\n<text transform=\"translate(210,786)\" font-size=\"22\" style=\"fill:rgb(31, 159, 136)\">october</text>\\n<text transform=\"translate(508,722)\" font-size=\"22\" style=\"fill:rgb(94, 201, 98)\">peter</text>\\n<text transform=\"translate(639,829)\" font-size=\"22\" style=\"fill:rgb(32, 163, 134)\">second</text>\\n<text transform=\"translate(636,522) rotate(-90)\" font-size=\"22\" style=\"fill:rgb(134, 213, 73)\">subject</text>\\n<text transform=\"translate(463,447)\" font-size=\"22\" style=\"fill:rgb(60, 79, 138)\">us</text>\\n<text transform=\"translate(593,786)\" font-size=\"22\" style=\"fill:rgb(70, 48, 126)\">also</text>\\n<text transform=\"translate(841,712) rotate(-90)\" font-size=\"22\" style=\"fill:rgb(47, 180, 124)\">baldwin</text>\\n<text transform=\"translate(249,237) rotate(-90)\" font-size=\"22\" style=\"fill:rgb(32, 146, 140)\">blanche</text>\\n<text transform=\"translate(329,731) rotate(-90)\" font-size=\"22\" style=\"fill:rgb(72, 20, 103)\">january</text>\\n<text transform=\"translate(909,934)\" font-size=\"22\" style=\"fill:rgb(64, 189, 114)\">master</text>\\n<text transform=\"translate(84,90)\" font-size=\"22\" style=\"fill:rgb(72, 40, 120)\">almost</text>\\n<text transform=\"translate(615,723)\" font-size=\"20\" style=\"fill:rgb(39, 127, 142)\">collection</text>\\n<text transform=\"translate(770,994)\" font-size=\"20\" style=\"fill:rgb(58, 84, 140)\">december</text>\\n<text transform=\"translate(581,610)\" font-size=\"20\" style=\"fill:rgb(31, 153, 138)\">effect</text>\\n<text transform=\"translate(887,743)\" font-size=\"20\" style=\"fill:rgb(62, 74, 137)\">gods</text>\\n<text transform=\"translate(506,274)\" font-size=\"20\" style=\"fill:rgb(72, 22, 104)\">judge</text>\\n<text transform=\"translate(624,220)\" font-size=\"20\" style=\"fill:rgb(71, 13, 96)\">men</text>\\n<text transform=\"translate(445,339)\" font-size=\"20\" style=\"fill:rgb(192, 223, 37)\">might</text>\\n<text transform=\"translate(387,549)\" font-size=\"20\" style=\"fill:rgb(34, 141, 141)\">given</text>\\n<text transform=\"translate(524,571)\" font-size=\"20\" style=\"fill:rgb(65, 66, 135)\">march</text>\\n<text transform=\"translate(504,744)\" font-size=\"20\" style=\"fill:rgb(69, 53, 129)\">marie</text>\\n<text transform=\"translate(887,208)\" font-size=\"20\" style=\"fill:rgb(49, 103, 142)\">suit</text>\\n<text transform=\"translate(16,536) rotate(-90)\" font-size=\"20\" style=\"fill:rgb(32, 163, 134)\">daughter</text>\\n<text transform=\"translate(792,289)\" font-size=\"20\" style=\"fill:rgb(37, 133, 142)\">day</text>\\n<text transform=\"translate(354,287)\" font-size=\"20\" style=\"fill:rgb(52, 96, 141)\">james</text>\\n<text transform=\"translate(463,475)\" font-size=\"20\" style=\"fill:rgb(36, 135, 142)\">l</text>\\n<text transform=\"translate(190,498) rotate(-90)\" font-size=\"20\" style=\"fill:rgb(34, 140, 141)\">managers</text>\\n<text transform=\"translate(531,601)\" font-size=\"20\" style=\"fill:rgb(50, 100, 142)\">etc</text>\\n<text transform=\"translate(740,54)\" font-size=\"15\" style=\"fill:rgb(31, 148, 140)\">photograph</text>\\n<text transform=\"translate(687,872)\" font-size=\"15\" style=\"fill:rgb(72, 41, 121)\">auctioneer</text>\\n<text transform=\"translate(835,145)\" font-size=\"15\" style=\"fill:rgb(71, 47, 125)\">come</text>\\n<text transform=\"translate(837,965)\" font-size=\"15\" style=\"fill:rgb(42, 176, 127)\">country</text>\\n<text transform=\"translate(522,671)\" font-size=\"15\" style=\"fill:rgb(66, 63, 133)\">year</text>\\n<text transform=\"translate(535,956)\" font-size=\"15\" style=\"fill:rgb(72, 32, 113)\">dear</text>\\n<text transform=\"translate(248,685)\" font-size=\"15\" style=\"fill:rgb(37, 131, 142)\">grimm</text>\\n<text transform=\"translate(104,690)\" font-size=\"15\" style=\"fill:rgb(129, 211, 77)\">june</text>\\n<text transform=\"translate(678,336)\" font-size=\"15\" style=\"fill:rgb(168, 219, 52)\">november</text>\\n<text transform=\"translate(502,184)\" font-size=\"15\" style=\"fill:rgb(31, 151, 139)\">street</text>\\n<text transform=\"translate(236,927)\" font-size=\"15\" style=\"fill:rgb(92, 200, 99)\">three</text>\\n<text transform=\"translate(602,906)\" font-size=\"15\" style=\"fill:rgb(149, 216, 64)\">brought</text>\\n<text transform=\"translate(344,786)\" font-size=\"15\" style=\"fill:rgb(68, 57, 131)\">engagement</text>\\n<text transform=\"translate(281,227)\" font-size=\"15\" style=\"fill:rgb(71, 13, 96)\">interest</text>\\n<text transform=\"translate(382,571)\" font-size=\"15\" style=\"fill:rgb(55, 184, 120)\">though</text>\\n<text transform=\"translate(840,541)\" font-size=\"15\" style=\"fill:rgb(62, 73, 137)\">thought</text>\\n<text transform=\"translate(318,351)\" font-size=\"15\" style=\"fill:rgb(134, 213, 73)\">best</text>\\n<text transform=\"translate(36,454)\" font-size=\"15\" style=\"fill:rgb(71, 45, 123)\">considered</text>\\n<text transform=\"translate(466,391)\" font-size=\"15\" style=\"fill:rgb(31, 151, 139)\">end</text>\\n<text transform=\"translate(516,461)\" font-size=\"15\" style=\"fill:rgb(31, 149, 139)\">kitty</text>\\n<text transform=\"translate(732,370)\" font-size=\"15\" style=\"fill:rgb(152, 216, 62)\">mind</text>\\n<text transform=\"translate(340,857)\" font-size=\"15\" style=\"fill:rgb(49, 102, 142)\">true</text>\\n<text transform=\"translate(987,785) rotate(-90)\" font-size=\"15\" style=\"fill:rgb(72, 27, 109)\">gave</text>\\n<text transform=\"translate(178,135)\" font-size=\"15\" style=\"fill:rgb(41, 122, 142)\">lady</text>\\n<text transform=\"translate(302,14)\" font-size=\"15\" style=\"fill:rgb(64, 69, 136)\">left</text>\\n</svg>'"
      ]
     },
     "execution_count": 19,
     "metadata": {},
     "output_type": "execute_result"
    }
   ],
   "source": [
    "fig.to_svg()"
   ]
  },
  {
   "cell_type": "code",
   "execution_count": null,
   "metadata": {},
   "outputs": [],
   "source": []
  },
  {
   "cell_type": "code",
   "execution_count": 15,
   "metadata": {},
   "outputs": [
    {
     "data": {
      "text/plain": [
       "['__array__',\n",
       " '__class__',\n",
       " '__delattr__',\n",
       " '__dict__',\n",
       " '__dir__',\n",
       " '__doc__',\n",
       " '__eq__',\n",
       " '__format__',\n",
       " '__ge__',\n",
       " '__getattribute__',\n",
       " '__gt__',\n",
       " '__hash__',\n",
       " '__init__',\n",
       " '__init_subclass__',\n",
       " '__le__',\n",
       " '__lt__',\n",
       " '__module__',\n",
       " '__ne__',\n",
       " '__new__',\n",
       " '__reduce__',\n",
       " '__reduce_ex__',\n",
       " '__repr__',\n",
       " '__setattr__',\n",
       " '__sizeof__',\n",
       " '__str__',\n",
       " '__subclasshook__',\n",
       " '__weakref__',\n",
       " '_check_generated',\n",
       " '_draw_contour',\n",
       " '_get_bolean_mask',\n",
       " 'background_color',\n",
       " 'collocation_threshold',\n",
       " 'collocations',\n",
       " 'color_func',\n",
       " 'colormap',\n",
       " 'contour_color',\n",
       " 'contour_width',\n",
       " 'fit_words',\n",
       " 'font_path',\n",
       " 'font_step',\n",
       " 'generate',\n",
       " 'generate_from_frequencies',\n",
       " 'generate_from_text',\n",
       " 'height',\n",
       " 'include_numbers',\n",
       " 'layout_',\n",
       " 'margin',\n",
       " 'mask',\n",
       " 'max_font_size',\n",
       " 'max_words',\n",
       " 'min_font_size',\n",
       " 'min_word_length',\n",
       " 'mode',\n",
       " 'normalize_plurals',\n",
       " 'prefer_horizontal',\n",
       " 'process_text',\n",
       " 'random_state',\n",
       " 'recolor',\n",
       " 'regexp',\n",
       " 'relative_scaling',\n",
       " 'repeat',\n",
       " 'scale',\n",
       " 'stopwords',\n",
       " 'to_array',\n",
       " 'to_file',\n",
       " 'to_html',\n",
       " 'to_image',\n",
       " 'to_svg',\n",
       " 'width',\n",
       " 'words_']"
      ]
     },
     "execution_count": 15,
     "metadata": {},
     "output_type": "execute_result"
    }
   ],
   "source": [
    "dir(fig)"
   ]
  },
  {
   "cell_type": "code",
   "execution_count": 13,
   "metadata": {},
   "outputs": [
    {
     "ename": "AttributeError",
     "evalue": "'WordCloud' object has no attribute 'set_canvas'",
     "output_type": "error",
     "traceback": [
      "\u001b[0;31m---------------------------------------------------------------------------\u001b[0m",
      "\u001b[0;31mAttributeError\u001b[0m                            Traceback (most recent call last)",
      "\u001b[0;32m<ipython-input-13-5ceb187fb742>\u001b[0m in \u001b[0;36m<module>\u001b[0;34m\u001b[0m\n\u001b[1;32m      3\u001b[0m \u001b[0mnew_manager\u001b[0m \u001b[0;34m=\u001b[0m \u001b[0mdummy\u001b[0m\u001b[0;34m.\u001b[0m\u001b[0mcanvas\u001b[0m\u001b[0;34m.\u001b[0m\u001b[0mmanager\u001b[0m\u001b[0;34m\u001b[0m\u001b[0;34m\u001b[0m\u001b[0m\n\u001b[1;32m      4\u001b[0m \u001b[0mnew_manager\u001b[0m\u001b[0;34m.\u001b[0m\u001b[0mcanvas\u001b[0m\u001b[0;34m.\u001b[0m\u001b[0mfigure\u001b[0m \u001b[0;34m=\u001b[0m \u001b[0mfig\u001b[0m\u001b[0;34m\u001b[0m\u001b[0;34m\u001b[0m\u001b[0m\n\u001b[0;32m----> 5\u001b[0;31m \u001b[0mfig\u001b[0m\u001b[0;34m.\u001b[0m\u001b[0mset_canvas\u001b[0m\u001b[0;34m(\u001b[0m\u001b[0mnew_manager\u001b[0m\u001b[0;34m.\u001b[0m\u001b[0mcanvas\u001b[0m\u001b[0;34m)\u001b[0m\u001b[0;34m\u001b[0m\u001b[0;34m\u001b[0m\u001b[0m\n\u001b[0m\u001b[1;32m      6\u001b[0m \u001b[0;31m#fig.show()\u001b[0m\u001b[0;34m\u001b[0m\u001b[0;34m\u001b[0m\u001b[0;34m\u001b[0m\u001b[0m\n",
      "\u001b[0;31mAttributeError\u001b[0m: 'WordCloud' object has no attribute 'set_canvas'"
     ]
    },
    {
     "ename": "AttributeError",
     "evalue": "'WordCloud' object has no attribute 'get_facecolor'",
     "output_type": "error",
     "traceback": [
      "\u001b[0;31m---------------------------------------------------------------------------\u001b[0m",
      "\u001b[0;31mAttributeError\u001b[0m                            Traceback (most recent call last)",
      "\u001b[0;32m~/py38/lib/python3.8/site-packages/ipykernel/pylab/backend_inline.py\u001b[0m in \u001b[0;36mshow\u001b[0;34m(close, block)\u001b[0m\n\u001b[1;32m     39\u001b[0m             display(\n\u001b[1;32m     40\u001b[0m                 \u001b[0mfigure_manager\u001b[0m\u001b[0;34m.\u001b[0m\u001b[0mcanvas\u001b[0m\u001b[0;34m.\u001b[0m\u001b[0mfigure\u001b[0m\u001b[0;34m,\u001b[0m\u001b[0;34m\u001b[0m\u001b[0;34m\u001b[0m\u001b[0m\n\u001b[0;32m---> 41\u001b[0;31m                 \u001b[0mmetadata\u001b[0m\u001b[0;34m=\u001b[0m\u001b[0m_fetch_figure_metadata\u001b[0m\u001b[0;34m(\u001b[0m\u001b[0mfigure_manager\u001b[0m\u001b[0;34m.\u001b[0m\u001b[0mcanvas\u001b[0m\u001b[0;34m.\u001b[0m\u001b[0mfigure\u001b[0m\u001b[0;34m)\u001b[0m\u001b[0;34m\u001b[0m\u001b[0;34m\u001b[0m\u001b[0m\n\u001b[0m\u001b[1;32m     42\u001b[0m             )\n\u001b[1;32m     43\u001b[0m     \u001b[0;32mfinally\u001b[0m\u001b[0;34m:\u001b[0m\u001b[0;34m\u001b[0m\u001b[0;34m\u001b[0m\u001b[0m\n",
      "\u001b[0;32m~/py38/lib/python3.8/site-packages/ipykernel/pylab/backend_inline.py\u001b[0m in \u001b[0;36m_fetch_figure_metadata\u001b[0;34m(fig)\u001b[0m\n\u001b[1;32m    174\u001b[0m     \u001b[0;34m\"\"\"Get some metadata to help with displaying a figure.\"\"\"\u001b[0m\u001b[0;34m\u001b[0m\u001b[0;34m\u001b[0m\u001b[0m\n\u001b[1;32m    175\u001b[0m     \u001b[0;31m# determine if a background is needed for legibility\u001b[0m\u001b[0;34m\u001b[0m\u001b[0;34m\u001b[0m\u001b[0;34m\u001b[0m\u001b[0m\n\u001b[0;32m--> 176\u001b[0;31m     \u001b[0;32mif\u001b[0m \u001b[0m_is_transparent\u001b[0m\u001b[0;34m(\u001b[0m\u001b[0mfig\u001b[0m\u001b[0;34m.\u001b[0m\u001b[0mget_facecolor\u001b[0m\u001b[0;34m(\u001b[0m\u001b[0;34m)\u001b[0m\u001b[0;34m)\u001b[0m\u001b[0;34m:\u001b[0m\u001b[0;34m\u001b[0m\u001b[0;34m\u001b[0m\u001b[0m\n\u001b[0m\u001b[1;32m    177\u001b[0m         \u001b[0;31m# the background is transparent\u001b[0m\u001b[0;34m\u001b[0m\u001b[0;34m\u001b[0m\u001b[0;34m\u001b[0m\u001b[0m\n\u001b[1;32m    178\u001b[0m         ticksLight = _is_light([label.get_color()\n",
      "\u001b[0;31mAttributeError\u001b[0m: 'WordCloud' object has no attribute 'get_facecolor'"
     ]
    }
   ],
   "source": [
    "import matplotlib.pyplot as plt\n",
    "dummy = plt.figure()\n",
    "new_manager = dummy.canvas.manager\n",
    "new_manager.canvas.figure = fig\n",
    "fig.set_canvas(new_manager.canvas)\n",
    "#fig.show()"
   ]
  },
  {
   "cell_type": "raw",
   "metadata": {},
   "source": [
    "import matplotlib.pyplot as plt\n",
    "import wordcloud\n",
    "\n",
    "try:\n",
    "    counts.pop('.')\n",
    "except:\n",
    "    pass\n",
    "try:\n",
    "    counts.pop('p')\n",
    "except:\n",
    "    pass\n",
    "wc_size = (14, 14)\n",
    "sm = sum(counts.values())\n",
    "frequency_dict = {k: v/sm for k, v in counts.items()}\n",
    "\n",
    "wc = (\n",
    "    wordcloud.WordCloud(\n",
    "        width=1000, height=1000, \n",
    "        background_color='white',\n",
    "        min_font_size=10\n",
    "    ).generate_from_frequencies(frequency_dict)\n",
    ")\n",
    "fig = plt.figure(figsize=wc_size, facecolor=None)\n",
    "ax = fig.add_subplot()\n",
    "ax.set_title(\"Words in the disaster tweets\")\n",
    "_ = ax.imshow(wc) "
   ]
  },
  {
   "cell_type": "raw",
   "metadata": {},
   "source": [
    "wc_size = (14, 14)\n",
    "\n",
    "fig = plt.figure(figsize=wc_size, facecolor=None)\n",
    "\n",
    "import matplotlib \n",
    "help(fig)"
   ]
  },
  {
   "cell_type": "code",
   "execution_count": null,
   "metadata": {},
   "outputs": [],
   "source": []
  }
 ],
 "metadata": {
  "kernelspec": {
   "display_name": "py38",
   "language": "python",
   "name": "py38"
  },
  "language_info": {
   "codemirror_mode": {
    "name": "ipython",
    "version": 3
   },
   "file_extension": ".py",
   "mimetype": "text/x-python",
   "name": "python",
   "nbconvert_exporter": "python",
   "pygments_lexer": "ipython3",
   "version": "3.8.5"
  }
 },
 "nbformat": 4,
 "nbformat_minor": 4
}
